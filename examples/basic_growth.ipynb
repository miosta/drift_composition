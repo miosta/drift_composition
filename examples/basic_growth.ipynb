{
 "cells": [
  {
   "cell_type": "markdown",
   "metadata": {},
   "source": [
    "# Basic Model\n",
    "\n",
    "Build a single steady disc model and compute the composition using the default abundances"
   ]
  },
  {
   "cell_type": "code",
   "execution_count": null,
   "metadata": {},
   "outputs": [],
   "source": [
    "import numpy as np\n",
    "import matplotlib.pyplot as plt\n",
    "import matplotlib as mpl\n",
    "mpl.style.use('seaborn-talk')"
   ]
  },
  {
   "cell_type": "markdown",
   "metadata": {},
   "source": [
    "### Define constants describing the disc model"
   ]
  },
  {
   "cell_type": "code",
   "execution_count": null,
   "metadata": {},
   "outputs": [],
   "source": [
    "Mdot_gas = 1e-8\n",
    "Mdot_dust = 1e-9\n",
    "Stokes = 0.01\n",
    "\n",
    "T = lambda R: 150*(R/Rau)**-0.5\n",
    "alpha = lambda R: 1e-3"
   ]
  },
  {
   "cell_type": "markdown",
   "metadata": {},
   "source": [
    "### Build a grid and the background disc model"
   ]
  },
  {
   "cell_type": "code",
   "execution_count": null,
   "metadata": {},
   "outputs": [],
   "source": [
    "from drift_composition.planet_growth import seed_mass, Planet, PlanetEnv, mass_growth\n",
    "from drift_composition.constants import Mearth, Msun, Rau, yr\n",
    "from drift_composition.grid import Grid\n",
    "from drift_composition.disc import DiscModel\n",
    "from drift_composition.molecule import get_molecular_properties\n",
    "\n",
    "grid = Grid(0.1*Rau, 30*Rau, 512)\n",
    "\n",
    "DM = DiscModel(grid, Mdot_gas, alpha, T)\n",
    "\n",
    "DM.compute_dust_surface_density(Mdot_dust, Stokes)"
   ]
  },
  {
   "cell_type": "code",
   "execution_count": null,
   "metadata": {},
   "outputs": [],
   "source": [
    "f, ax = plt.subplots(2, figsize=(10, 8), sharex=True)\n",
    "\n",
    "ax[0].loglog(grid.Rc/Rau, DM.Sigma_gas, label='Gas')\n",
    "ax[0].loglog(grid.Rc/Rau, DM.Sigma_dust, label='Dust')\n",
    "ax[0].set_ylabel('Surface density [g cm^-2]')\n",
    "ax[0].legend()\n",
    "\n",
    "ax[1].loglog(grid.Rc/Rau, T(grid.Rc))\n",
    "ax[1].set_xlabel('Radius [AU]')\n",
    "ax[1].set_ylabel('Temperature [K]')\n",
    "ax[0].legend()\n",
    "\n",
    "f.tight_layout()"
   ]
  },
  {
   "cell_type": "markdown",
   "metadata": {},
   "source": [
    "### Compute the chemical structure"
   ]
  },
  {
   "cell_type": "code",
   "execution_count": null,
   "metadata": {},
   "outputs": [],
   "source": [
    "species, abundances = get_molecular_properties()\n",
    "DM.compute_chemistry(species, abundances )"
   ]
  },
  {
   "cell_type": "code",
   "execution_count": null,
   "metadata": {},
   "outputs": [],
   "source": [
    "f, ax = plt.subplots(2, figsize=(10, 8), sharex=True)\n",
    "\n",
    "ax[0].loglog(grid.Rc/Rau, DM.Sigma_gas, label='Gas', c='k')\n",
    "ax[0].loglog(grid.Rc/Rau, DM.Sigma_dust, label='Dust', c='k', ls='--')\n",
    "for spec in ['H2O', 'CO', 'CO2']:\n",
    "    l,= ax[0].loglog(grid.Rc/Rau, DM.Sigma_mol[spec][:,0], label=f'{spec} (gas)')\n",
    "    ax[0].loglog(grid.Rc/Rau, DM.Sigma_mol[spec][:,1], label=f'{spec} (ice)', ls='--', c=l.get_color())\n",
    "\n",
    "ax[0].set_ylabel('Surface density [g cm^-2]')\n",
    "ax[0].legend(ncol=2)\n",
    "ax[0].set_ylim(ymin=1e-3)\n",
    "\n",
    "columns = DM.compute_elemental_column()\n",
    "C2O = columns['C']/columns['O']\n",
    "\n",
    "columns = DM.compute_elemental_column(dust=None)\n",
    "C2O_ice = columns['C']/columns['O']\n",
    "\n",
    "plt.figure()\n",
    "ax[1].semilogx(grid.Rc/Rau, C2O[:,0], label='gas')\n",
    "ax[1].semilogx(grid.Rc/Rau, C2O[:,1], label='ice+dust')\n",
    "ax[1].semilogx(grid.Rc/Rau, C2O_ice[:,1], label='ice only')\n",
    "\n",
    "ax[1].set_xlabel('Radius [AU]')\n",
    "ax[1].set_ylabel('C/O ratio')\n",
    "ax[1].legend()\n",
    "\n",
    "f.tight_layout()"
   ]
  },
  {
   "cell_type": "code",
   "execution_count": null,
   "metadata": {
    "scrolled": true
   },
   "outputs": [],
   "source": [
    "species, abundances = get_molecular_properties()\n",
    "\n",
    "f_comp = dict(zip([spec.name for spec in species],np.zeros((len(species),2))))\n",
    "\n",
    "grid = Grid(0.1*Rau, 30*Rau, 512)\n",
    "\n",
    "planet_ini = Planet(0.01*Mearth/Msun, 0.01*Mearth/Msun, 1e-10, f_comp, 30.0*Rau)\n",
    "print(planet_ini.f_comp)\n",
    "\n",
    "p_env = PlanetEnv(grid, alpha(grid.Rc), 2.35, 1.0)\n",
    "\n",
    "dt = 10000\n",
    "Nt = int(1e2)\n",
    "\n",
    "masses = []\n",
    "mcs = []\n",
    "mgs = []\n",
    "mco_g = []\n",
    "mco_d = []\n",
    "\n",
    "print(p_env.temp(T(grid.Rc),planet_ini.dist), planet_ini.mass)\n",
    "\n",
    "planet = planet_ini\n",
    "for kk in range(Nt):\n",
    "    planet = mass_growth(planet, p_env, DM, T(grid.Rc), dt)\n",
    "    masses.append(planet.mass)\n",
    "    mcs.append(planet.mc)\n",
    "    mgs.append(planet.mg)\n",
    "    mco_g.append(planet.f_comp['CO'][0])\n",
    "    mco_d.append(planet.f_comp['CO'][1])\n",
    "    #help(planet)\n",
    "    #print(planet.mass)\n",
    "    print(planet.f_comp['CO'])"
   ]
  },
  {
   "cell_type": "code",
   "execution_count": null,
   "metadata": {
    "scrolled": false
   },
   "outputs": [],
   "source": [
    "import matplotlib.pyplot as plt \n",
    "\n",
    "plt.plot(np.arange(Nt)*dt, np.array(masses)*Msun/Mearth, 'k-', label='total')\n",
    "plt.plot(np.arange(Nt)*dt, np.array(mcs)*Msun/Mearth, 'g:', label='core')\n",
    "plt.plot(np.arange(Nt)*dt, np.array(mgs)*Msun/Mearth, 'b-.', label='gas')\n",
    "plt.plot(np.arange(Nt)*dt, np.array(mco_g)*Msun/Mearth, 'c--', label='CO gas')\n",
    "plt.plot(np.arange(Nt)*dt, np.array(mco_d)*Msun/Mearth, 'm--', label='CO dust')\n",
    "plt.yscale('log')\n",
    "plt.xlabel(\"time [yr]\")\n",
    "plt.ylabel(\"mass [M_Earth]\")\n",
    "plt.legend()\n",
    "plt.show()"
   ]
  },
  {
   "cell_type": "code",
   "execution_count": null,
   "metadata": {},
   "outputs": [],
   "source": []
  },
  {
   "cell_type": "code",
   "execution_count": null,
   "metadata": {},
   "outputs": [],
   "source": []
  }
 ],
 "metadata": {
  "kernelspec": {
   "display_name": "Python 3",
   "language": "python",
   "name": "python3"
  },
  "language_info": {
   "codemirror_mode": {
    "name": "ipython",
    "version": 3
   },
   "file_extension": ".py",
   "mimetype": "text/x-python",
   "name": "python",
   "nbconvert_exporter": "python",
   "pygments_lexer": "ipython3",
   "version": "3.8.10"
  }
 },
 "nbformat": 4,
 "nbformat_minor": 2
}
